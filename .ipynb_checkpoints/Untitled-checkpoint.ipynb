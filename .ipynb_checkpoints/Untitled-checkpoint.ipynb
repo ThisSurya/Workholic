{
 "cells": [
  {
   "cell_type": "markdown",
   "id": "94ae4c62",
   "metadata": {},
   "source": [
    "Check who is the longest work in office? let's check!"
   ]
  },
  {
   "cell_type": "code",
   "execution_count": 2,
   "id": "842a3913",
   "metadata": {},
   "outputs": [],
   "source": [
    "def check(worker):\n",
    "    longest = 0\n",
    "    employee = ''\n",
    "    \n",
    "    for workers, hours in worker:\n",
    "        if(hours > longest):\n",
    "            longest = hours\n",
    "            employee = workers\n",
    "    \n",
    "    return (employee, longest)"
   ]
  },
  {
   "cell_type": "code",
   "execution_count": 3,
   "id": "40319daa",
   "metadata": {},
   "outputs": [],
   "source": [
    "employee = [('samy', 200), ('tata', 150), ('Surya', 400), ('jojo', 350)]"
   ]
  },
  {
   "cell_type": "code",
   "execution_count": 8,
   "id": "3c319e3d",
   "metadata": {},
   "outputs": [],
   "source": [
    "name, hours = check(employee)"
   ]
  },
  {
   "cell_type": "code",
   "execution_count": 10,
   "id": "e603ae98",
   "metadata": {},
   "outputs": [
    {
     "name": "stdout",
     "output_type": "stream",
     "text": [
      "Surya is 400\n"
     ]
    }
   ],
   "source": [
    "print(f'{name} is {hours}')"
   ]
  },
  {
   "cell_type": "code",
   "execution_count": null,
   "id": "f520e49a",
   "metadata": {},
   "outputs": [],
   "source": []
  }
 ],
 "metadata": {
  "kernelspec": {
   "display_name": "Python 3 (ipykernel)",
   "language": "python",
   "name": "python3"
  },
  "language_info": {
   "codemirror_mode": {
    "name": "ipython",
    "version": 3
   },
   "file_extension": ".py",
   "mimetype": "text/x-python",
   "name": "python",
   "nbconvert_exporter": "python",
   "pygments_lexer": "ipython3",
   "version": "3.11.3"
  }
 },
 "nbformat": 4,
 "nbformat_minor": 5
}
